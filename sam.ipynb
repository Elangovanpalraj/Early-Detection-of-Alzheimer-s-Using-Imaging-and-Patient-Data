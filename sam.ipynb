{
 "cells": [
  {
   "cell_type": "code",
   "execution_count": 1,
   "metadata": {},
   "outputs": [
    {
     "name": "stdout",
     "output_type": "stream",
     "text": [
      "\n",
      "📂 Checking dataset structure...\n",
      "\n",
      "📂 TRAIN FOLDERS:\n",
      "  - Mild Impairment\n",
      "  - Moderate Impairment\n",
      "  - No Impairment\n",
      "  - Very Mild Impairment\n",
      "\n",
      "📂 TEST FOLDERS:\n",
      "  - Mild Impairment\n",
      "  - Moderate Impairment\n",
      "  - No Impairment\n",
      "  - Very Mild Impairment\n",
      "\n",
      "⚠ No CSV file found in the dataset.\n"
     ]
    }
   ],
   "source": [
    "import os\n",
    "import pandas as pd\n",
    "\n",
    "# Set your dataset directory path\n",
    "dataset_path = \"dataset/Combined Dataset\"  # Update this to your actual dataset path\n",
    "\n",
    "# Step 1: List all folders inside train and test directories\n",
    "def list_folders():\n",
    "    print(\"\\n📂 Checking dataset structure...\")\n",
    "    for split in [\"train\", \"test\"]:\n",
    "        split_path = os.path.join(dataset_path, split)\n",
    "        if os.path.exists(split_path):\n",
    "            print(f\"\\n📂 {split.upper()} FOLDERS:\")\n",
    "            for folder in os.listdir(split_path):\n",
    "                folder_path = os.path.join(split_path, folder)\n",
    "                if os.path.isdir(folder_path):\n",
    "                    print(f\"  - {folder}\")\n",
    "\n",
    "# Step 2: Check if a CSV file exists and print column names\n",
    "def list_csv_columns():\n",
    "    csv_path = os.path.join(dataset_path, \"metadata.csv\")  # Change the filename if needed\n",
    "    if os.path.exists(csv_path):\n",
    "        df = pd.read_csv(csv_path)\n",
    "        print(\"\\n📊 CSV File Found! Column Names:\")\n",
    "        print(df.columns.tolist())\n",
    "    else:\n",
    "        print(\"\\n⚠ No CSV file found in the dataset.\")\n",
    "\n",
    "# Run both functions\n",
    "list_folders()\n",
    "list_csv_columns()\n"
   ]
  },
  {
   "cell_type": "code",
   "execution_count": 2,
   "metadata": {},
   "outputs": [
    {
     "name": "stdout",
     "output_type": "stream",
     "text": [
      "❌ Dataset path is incorrect! Check if the folder exists.\n"
     ]
    }
   ],
   "source": [
    "import os\n",
    "\n",
    "dataset_path = \"Z:\\\\MARCELLO\\\\STET\\\\MCA\\\\keerthana karthi\\\\Alzheimers-Detection\\\\dataset\\\\train\"\n",
    "\n",
    "if os.path.exists(dataset_path):\n",
    "    print(\"✅ Dataset path is correct!\")\n",
    "    print(\"Folders inside 'train':\", os.listdir(dataset_path))\n",
    "else:\n",
    "    print(\"❌ Dataset path is incorrect! Check if the folder exists.\")\n"
   ]
  }
 ],
 "metadata": {
  "kernelspec": {
   "display_name": "Python 3",
   "language": "python",
   "name": "python3"
  },
  "language_info": {
   "codemirror_mode": {
    "name": "ipython",
    "version": 3
   },
   "file_extension": ".py",
   "mimetype": "text/x-python",
   "name": "python",
   "nbconvert_exporter": "python",
   "pygments_lexer": "ipython3",
   "version": "3.12.7"
  }
 },
 "nbformat": 4,
 "nbformat_minor": 2
}
